{
 "cells": [
  {
   "cell_type": "code",
   "execution_count": 1,
   "id": "820b3e65-60ba-4497-a452-95ea4d922154",
   "metadata": {},
   "outputs": [],
   "source": [
    "import tensorflow as tf"
   ]
  },
  {
   "cell_type": "code",
   "execution_count": 10,
   "id": "cbaa85c3-648e-4fa2-9f27-12ad272e6398",
   "metadata": {},
   "outputs": [
    {
     "name": "stdout",
     "output_type": "stream",
     "text": [
      "INFO:tensorflow:Saver not created because there are no variables in the graph to restore\n"
     ]
    }
   ],
   "source": [
    "model=tf.saved_model.load(\"../\")"
   ]
  },
  {
   "cell_type": "code",
   "execution_count": 19,
   "id": "aa2fd10b-5933-4e6b-ae68-5360f8ec18a0",
   "metadata": {},
   "outputs": [],
   "source": [
    "import PIL"
   ]
  },
  {
   "cell_type": "code",
   "execution_count": 50,
   "id": "fc8f6977-10f3-49c6-9037-3d5460930369",
   "metadata": {},
   "outputs": [],
   "source": [
    "from PIL import Image\n",
    "import numpy as np\n",
    "\n",
    "# Open and resize the image\n",
    "img = Image.open(\"../waffle.jpeg\").resize((224, 224))\n",
    "\n",
    "# Convert to NumPy array\n",
    "img = np.array(img) / 255.0  # Now you can divide by 255.0 to normalize\n"
   ]
  },
  {
   "cell_type": "code",
   "execution_count": 63,
   "id": "8a16293a-bbf8-4daf-9086-a79bb1338ea5",
   "metadata": {},
   "outputs": [
    {
     "name": "stdout",
     "output_type": "stream",
     "text": [
      "INFO:tensorflow:Saver not created because there are no variables in the graph to restore\n"
     ]
    },
    {
     "name": "stderr",
     "output_type": "stream",
     "text": [
      "INFO:tensorflow:Saver not created because there are no variables in the graph to restore\n"
     ]
    },
    {
     "name": "stdout",
     "output_type": "stream",
     "text": [
      "dict_keys(['default'])\n",
      "{'default': <tf.Tensor: shape=(1, 2024), dtype=float32, numpy=\n",
      "array([[4.4332604e-09, 4.6003007e-07, 5.7720815e-08, ..., 5.2778279e-07,\n",
      "        2.2416409e-06, 3.7386719e-10]], dtype=float32)>}\n"
     ]
    }
   ],
   "source": [
    "import tensorflow as tf\n",
    "from PIL import Image\n",
    "import numpy as np\n",
    "\n",
    "# Load and preprocess image to (192, 192)\n",
    "img = Image.open(\"../lfin.jpeg\").resize((192, 192))\n",
    "img = np.array(img) / 255.0\n",
    "\n",
    "# Ensure it's RGB\n",
    "if img.ndim == 2:\n",
    "    img = np.stack((img,) * 3, axis=-1)\n",
    "elif img.shape[-1] == 4:  # Convert RGBA to RGB\n",
    "    img = img[..., :3]\n",
    "\n",
    "# Add batch dimension\n",
    "input_tensor = tf.convert_to_tensor(img, dtype=tf.float32)\n",
    "input_tensor = tf.expand_dims(input_tensor, axis=0)  # (1, 192, 192, 3)\n",
    "\n",
    "# Load model\n",
    "model = tf.saved_model.load(\"../\")\n",
    "\n",
    "# Use the correct signature (either one works)\n",
    "infer = model.signatures[\"default\"]  # or \"image_classifier\"\n",
    "\n",
    "# Run inference\n",
    "output = infer(images=input_tensor)\n",
    "\n",
    "# Print output keys and values\n",
    "print(output.keys())   # Should show dict_keys(['default']) or ['logits']\n",
    "print(output)\n"
   ]
  },
  {
   "cell_type": "code",
   "execution_count": 64,
   "id": "27b0849a-a31a-413a-a74e-0a0be8c85d02",
   "metadata": {},
   "outputs": [
    {
     "name": "stdout",
     "output_type": "stream",
     "text": [
      "Predicted class index: [246]\n"
     ]
    }
   ],
   "source": [
    "logits = output['default']  # or output['default']\n",
    "predicted_class = tf.argmax(logits, axis=-1)\n",
    "print(\"Predicted class index:\", predicted_class.numpy())\n"
   ]
  },
  {
   "cell_type": "code",
   "execution_count": 65,
   "id": "f15f2046-02df-4160-a888-cf0209217fc6",
   "metadata": {},
   "outputs": [
    {
     "name": "stdout",
     "output_type": "stream",
     "text": [
      "246,Kimchi\n"
     ]
    }
   ],
   "source": [
    "labels=[]\n",
    "with open(\"../aiy_food_V1_labelmap.csv\",\"r\") as f:\n",
    "    labels=f.read().splitlines()\n",
    "print(labels[predicted_class[0]+1])"
   ]
  }
 ],
 "metadata": {
  "kernelspec": {
   "display_name": "Python 3 (ipykernel)",
   "language": "python",
   "name": "python3"
  },
  "language_info": {
   "codemirror_mode": {
    "name": "ipython",
    "version": 3
   },
   "file_extension": ".py",
   "mimetype": "text/x-python",
   "name": "python",
   "nbconvert_exporter": "python",
   "pygments_lexer": "ipython3",
   "version": "3.12.3"
  }
 },
 "nbformat": 4,
 "nbformat_minor": 5
}
