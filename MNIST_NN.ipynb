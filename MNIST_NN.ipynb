{
 "cells": [
  {
   "cell_type": "code",
   "execution_count": null,
   "id": "1a55edf4-2286-4a1c-a619-0785475be1ae",
   "metadata": {},
   "outputs": [],
   "source": [
    "import numpy as np\n",
    "import matplotlib.pyplot as plt\n",
    "import sklearn as sk"
   ]
  },
  {
   "cell_type": "code",
   "execution_count": null,
   "id": "9ee2d7a9-f5d6-442a-8918-13501f0fe466",
   "metadata": {},
   "outputs": [],
   "source": [
    "data=sk.datasets.load_digits()\n",
    "plt.matshow(data.images[0])"
   ]
  },
  {
   "cell_type": "code",
   "execution_count": null,
   "id": "93be7315-09bd-46cb-9c47-32bb0b73cbb0",
   "metadata": {},
   "outputs": [],
   "source": [
    "X_train, X_test, y_train, y_test = sk.model_selection.train_test_split(\n",
    "data.data, data.target, test_size=0.33, random_state=42)"
   ]
  },
  {
   "cell_type": "code",
   "execution_count": null,
   "id": "cd98442d-c868-48a5-8866-ec667b28acf5",
   "metadata": {},
   "outputs": [],
   "source": [
    "print(X_test[0].shape)"
   ]
  },
  {
   "cell_type": "code",
   "execution_count": null,
   "id": "d999438a-0b58-4e1b-9c37-7fd402ccc00d",
   "metadata": {},
   "outputs": [],
   "source": [
    "import tensorflow as tf\n",
    "model = tf.keras.Sequential([\n",
    "    tf.keras.layers.Dense(64),            \n",
    "    tf.keras.layers.Dense(128, activation='relu'),            # Hidden layer\n",
    "    tf.keras.layers.Dense(10, activation='softmax')           # Output layer\n",
    "])"
   ]
  },
  {
   "cell_type": "code",
   "execution_count": null,
   "id": "643c6660-8a8d-4de1-89b5-2fb9ba0ca6b1",
   "metadata": {},
   "outputs": [],
   "source": [
    "model.compile(optimizer='adam',loss='sparse_categorical_crossentropy')\n",
    "model.fit(X_train,y_train,epochs=10)"
   ]
  },
  {
   "cell_type": "code",
   "execution_count": null,
   "id": "6e95019d-c027-4589-8958-0916ce1e599d",
   "metadata": {},
   "outputs": [],
   "source": [
    "y_pred=model.predict(X_test)"
   ]
  },
  {
   "cell_type": "code",
   "execution_count": null,
   "id": "a0e4ff53-5963-4851-a748-4440c76c9b98",
   "metadata": {},
   "outputs": [],
   "source": [
    "for i in range (0,X_test.size):\n",
    "    print(y_test[i],np.argmax(y_pred[i]))"
   ]
  },
  {
   "cell_type": "code",
   "execution_count": null,
   "id": "7f15ba39-b72e-4101-8246-612afe4f8c49",
   "metadata": {},
   "outputs": [],
   "source": [
    "W1 = np.random.rand(10, 784) - 0.5\n",
    "print(W1.shape)"
   ]
  },
  {
   "cell_type": "code",
   "execution_count": 65,
   "id": "c91c4690-2827-410b-b3d7-586334542583",
   "metadata": {},
   "outputs": [
    {
     "data": {
      "text/html": [
       "<div>\n",
       "<style scoped>\n",
       "    .dataframe tbody tr th:only-of-type {\n",
       "        vertical-align: middle;\n",
       "    }\n",
       "\n",
       "    .dataframe tbody tr th {\n",
       "        vertical-align: top;\n",
       "    }\n",
       "\n",
       "    .dataframe thead th {\n",
       "        text-align: right;\n",
       "    }\n",
       "</style>\n",
       "<table border=\"1\" class=\"dataframe\">\n",
       "  <thead>\n",
       "    <tr style=\"text-align: right;\">\n",
       "      <th></th>\n",
       "      <th>label</th>\n",
       "      <th>1x1</th>\n",
       "      <th>1x2</th>\n",
       "      <th>1x3</th>\n",
       "      <th>1x4</th>\n",
       "      <th>1x5</th>\n",
       "      <th>1x6</th>\n",
       "      <th>1x7</th>\n",
       "      <th>1x8</th>\n",
       "      <th>1x9</th>\n",
       "      <th>...</th>\n",
       "      <th>28x19</th>\n",
       "      <th>28x20</th>\n",
       "      <th>28x21</th>\n",
       "      <th>28x22</th>\n",
       "      <th>28x23</th>\n",
       "      <th>28x24</th>\n",
       "      <th>28x25</th>\n",
       "      <th>28x26</th>\n",
       "      <th>28x27</th>\n",
       "      <th>28x28</th>\n",
       "    </tr>\n",
       "  </thead>\n",
       "  <tbody>\n",
       "    <tr>\n",
       "      <th>0</th>\n",
       "      <td>5</td>\n",
       "      <td>0</td>\n",
       "      <td>0</td>\n",
       "      <td>0</td>\n",
       "      <td>0</td>\n",
       "      <td>0</td>\n",
       "      <td>0</td>\n",
       "      <td>0</td>\n",
       "      <td>0</td>\n",
       "      <td>0</td>\n",
       "      <td>...</td>\n",
       "      <td>0</td>\n",
       "      <td>0</td>\n",
       "      <td>0</td>\n",
       "      <td>0</td>\n",
       "      <td>0</td>\n",
       "      <td>0</td>\n",
       "      <td>0</td>\n",
       "      <td>0</td>\n",
       "      <td>0</td>\n",
       "      <td>0</td>\n",
       "    </tr>\n",
       "    <tr>\n",
       "      <th>1</th>\n",
       "      <td>0</td>\n",
       "      <td>0</td>\n",
       "      <td>0</td>\n",
       "      <td>0</td>\n",
       "      <td>0</td>\n",
       "      <td>0</td>\n",
       "      <td>0</td>\n",
       "      <td>0</td>\n",
       "      <td>0</td>\n",
       "      <td>0</td>\n",
       "      <td>...</td>\n",
       "      <td>0</td>\n",
       "      <td>0</td>\n",
       "      <td>0</td>\n",
       "      <td>0</td>\n",
       "      <td>0</td>\n",
       "      <td>0</td>\n",
       "      <td>0</td>\n",
       "      <td>0</td>\n",
       "      <td>0</td>\n",
       "      <td>0</td>\n",
       "    </tr>\n",
       "    <tr>\n",
       "      <th>2</th>\n",
       "      <td>4</td>\n",
       "      <td>0</td>\n",
       "      <td>0</td>\n",
       "      <td>0</td>\n",
       "      <td>0</td>\n",
       "      <td>0</td>\n",
       "      <td>0</td>\n",
       "      <td>0</td>\n",
       "      <td>0</td>\n",
       "      <td>0</td>\n",
       "      <td>...</td>\n",
       "      <td>0</td>\n",
       "      <td>0</td>\n",
       "      <td>0</td>\n",
       "      <td>0</td>\n",
       "      <td>0</td>\n",
       "      <td>0</td>\n",
       "      <td>0</td>\n",
       "      <td>0</td>\n",
       "      <td>0</td>\n",
       "      <td>0</td>\n",
       "    </tr>\n",
       "    <tr>\n",
       "      <th>3</th>\n",
       "      <td>1</td>\n",
       "      <td>0</td>\n",
       "      <td>0</td>\n",
       "      <td>0</td>\n",
       "      <td>0</td>\n",
       "      <td>0</td>\n",
       "      <td>0</td>\n",
       "      <td>0</td>\n",
       "      <td>0</td>\n",
       "      <td>0</td>\n",
       "      <td>...</td>\n",
       "      <td>0</td>\n",
       "      <td>0</td>\n",
       "      <td>0</td>\n",
       "      <td>0</td>\n",
       "      <td>0</td>\n",
       "      <td>0</td>\n",
       "      <td>0</td>\n",
       "      <td>0</td>\n",
       "      <td>0</td>\n",
       "      <td>0</td>\n",
       "    </tr>\n",
       "    <tr>\n",
       "      <th>4</th>\n",
       "      <td>9</td>\n",
       "      <td>0</td>\n",
       "      <td>0</td>\n",
       "      <td>0</td>\n",
       "      <td>0</td>\n",
       "      <td>0</td>\n",
       "      <td>0</td>\n",
       "      <td>0</td>\n",
       "      <td>0</td>\n",
       "      <td>0</td>\n",
       "      <td>...</td>\n",
       "      <td>0</td>\n",
       "      <td>0</td>\n",
       "      <td>0</td>\n",
       "      <td>0</td>\n",
       "      <td>0</td>\n",
       "      <td>0</td>\n",
       "      <td>0</td>\n",
       "      <td>0</td>\n",
       "      <td>0</td>\n",
       "      <td>0</td>\n",
       "    </tr>\n",
       "  </tbody>\n",
       "</table>\n",
       "<p>5 rows × 785 columns</p>\n",
       "</div>"
      ],
      "text/plain": [
       "   label  1x1  1x2  1x3  1x4  1x5  1x6  1x7  1x8  1x9  ...  28x19  28x20  \\\n",
       "0      5    0    0    0    0    0    0    0    0    0  ...      0      0   \n",
       "1      0    0    0    0    0    0    0    0    0    0  ...      0      0   \n",
       "2      4    0    0    0    0    0    0    0    0    0  ...      0      0   \n",
       "3      1    0    0    0    0    0    0    0    0    0  ...      0      0   \n",
       "4      9    0    0    0    0    0    0    0    0    0  ...      0      0   \n",
       "\n",
       "   28x21  28x22  28x23  28x24  28x25  28x26  28x27  28x28  \n",
       "0      0      0      0      0      0      0      0      0  \n",
       "1      0      0      0      0      0      0      0      0  \n",
       "2      0      0      0      0      0      0      0      0  \n",
       "3      0      0      0      0      0      0      0      0  \n",
       "4      0      0      0      0      0      0      0      0  \n",
       "\n",
       "[5 rows x 785 columns]"
      ]
     },
     "execution_count": 65,
     "metadata": {},
     "output_type": "execute_result"
    }
   ],
   "source": [
    "import pandas as pd\n",
    "data=pd.read_csv(\"mnist_train.csv\")\n",
    "data.head()"
   ]
  },
  {
   "cell_type": "code",
   "execution_count": 74,
   "id": "9a5c9137-955e-43a1-94bd-7e7f95026c06",
   "metadata": {},
   "outputs": [
    {
     "name": "stdout",
     "output_type": "stream",
     "text": [
      "(1000,)\n",
      "(784, 1000)\n"
     ]
    }
   ],
   "source": [
    "data=np.array(data)\n",
    "x_train=data[:1000].T[1:]\n",
    "y_train=data[:1000].T[0]\n",
    "print(y_train.shape)\n",
    "print(x_train.shape)"
   ]
  },
  {
   "cell_type": "code",
   "execution_count": 81,
   "id": "3051257f-98a8-4a3c-869c-08a29b84eeef",
   "metadata": {},
   "outputs": [],
   "source": [
    "def initialize_parameters():\n",
    "  W1 = np.random.rand(10, 784) - 0.5\n",
    "  B1 = np.random.rand(10, 1) - 0.5\n",
    "  W2 = np.random.rand(10, 10) - 0.5\n",
    "  B2 = np.random.rand(10, 1) - 0.5\n",
    "  return W1, B1, W2, B2\n",
    "def relu(X):\n",
    "    return np.maximum(0,X)\n",
    "def softmax(X):\n",
    "    return np.exp(X)/sum(np.exp(X))\n",
    "def forward_prop(W1,B1,W2,B2,X):\n",
    "    Z1=W1.dot(X)+B1\n",
    "    A1=relu(Z1)\n",
    "    Z2=W2.dot(A1)+B2\n",
    "    A2=softmax(Z2)\n",
    "    return Z1,A1,Z2,A2"
   ]
  },
  {
   "cell_type": "code",
   "execution_count": 83,
   "id": "e90a3a1a-cd92-44ff-b33e-5ba5d6d78b33",
   "metadata": {},
   "outputs": [
    {
     "name": "stdout",
     "output_type": "stream",
     "text": [
      "(array([[-9.06093220e+02,  9.54849346e+00, -3.93589926e+02, ...,\n",
      "        -7.91020507e+00, -5.71783834e+02,  9.98249525e+01],\n",
      "       [-8.65383198e+02,  1.29345687e+03, -5.11614503e+02, ...,\n",
      "         6.53608825e+02,  2.96256178e+02, -1.39375386e+02],\n",
      "       [ 5.60589560e+02,  8.00675875e+01,  6.31127003e+02, ...,\n",
      "        -5.68377410e+02,  6.23612630e+02,  8.44002099e+02],\n",
      "       ...,\n",
      "       [ 7.17252739e+02,  3.65448448e+02, -5.80890651e-01, ...,\n",
      "        -2.38105344e+02,  3.07884336e+02, -2.39594703e+02],\n",
      "       [ 6.02462952e+02, -5.92862683e+02,  1.56488439e+02, ...,\n",
      "         2.69945306e+02, -6.54884838e+02,  4.66375210e+02],\n",
      "       [ 7.53842390e+02,  7.52052000e+02,  6.24864505e+02, ...,\n",
      "         6.18585794e+02, -4.10467422e+02,  3.73453053e+02]]), array([[   0.        ,    9.54849346,    0.        , ...,    0.        ,\n",
      "           0.        ,   99.82495252],\n",
      "       [   0.        , 1293.45687251,    0.        , ...,  653.60882507,\n",
      "         296.25617791,    0.        ],\n",
      "       [ 560.58956026,   80.06758751,  631.12700255, ...,    0.        ,\n",
      "         623.61263019,  844.00209912],\n",
      "       ...,\n",
      "       [ 717.2527394 ,  365.4484476 ,    0.        , ...,    0.        ,\n",
      "         307.88433628,    0.        ],\n",
      "       [ 602.46295226,    0.        ,  156.48843933, ...,  269.94530632,\n",
      "           0.        ,  466.37520978],\n",
      "       [ 753.84238999,  752.05199988,  624.86450509, ...,  618.58579439,\n",
      "           0.        ,  373.45305264]]), array([[ 865.30084184, -144.30613586,  -89.56152113, ..., -371.11894389,\n",
      "          49.09634579,  623.75683965],\n",
      "       [ 218.2176789 ,  -13.50838745,  268.47198424, ...,  391.98051687,\n",
      "         416.29576877,  232.62577058],\n",
      "       [ 191.15597765, -858.56656528, -249.5887142 , ..., -523.50902227,\n",
      "         -58.42092601,  137.40285783],\n",
      "       ...,\n",
      "       [ 118.78900479,  353.91407551,  389.77904901, ...,  -70.54532031,\n",
      "         184.38940124,  415.1259473 ],\n",
      "       [  66.85080462, -695.19307924,  154.62455165, ..., -130.00099388,\n",
      "         -15.68132373,  144.62384651],\n",
      "       [ 253.27246777, -360.77236438,   90.83017769, ..., -292.02345498,\n",
      "        -205.26434701,  121.20159417]]), array([[            nan, 0.00000000e+000, 1.20098217e-209, ...,\n",
      "        0.00000000e+000, 3.36757163e-160, 1.00000000e+000],\n",
      "       [0.00000000e+000, 0.00000000e+000, 3.72831229e-054, ...,\n",
      "        0.00000000e+000, 1.00000000e+000, 1.36124093e-170],\n",
      "       [0.00000000e+000, 0.00000000e+000, 3.80723476e-279, ...,\n",
      "        0.00000000e+000, 6.81018627e-207, 6.01380637e-212],\n",
      "       ...,\n",
      "       [0.00000000e+000, 0.00000000e+000, 1.79680573e-001, ...,\n",
      "        0.00000000e+000, 1.92461675e-101, 2.47032842e-091],\n",
      "       [0.00000000e+000, 0.00000000e+000, 1.34338510e-103, ...,\n",
      "        0.00000000e+000, 2.48160365e-188, 8.22592942e-209],\n",
      "       [0.00000000e+000, 0.00000000e+000, 2.64640275e-131, ...,\n",
      "        0.00000000e+000, 1.14781408e-270, 5.53388379e-219]]))\n"
     ]
    },
    {
     "name": "stderr",
     "output_type": "stream",
     "text": [
      "/var/folders/b4/w_2nyh6d4nx60nhg48cn89x00000gn/T/ipykernel_61367/4250245957.py:10: RuntimeWarning: overflow encountered in exp\n",
      "  return np.exp(X)/sum(np.exp(X))\n",
      "/var/folders/b4/w_2nyh6d4nx60nhg48cn89x00000gn/T/ipykernel_61367/4250245957.py:10: RuntimeWarning: invalid value encountered in divide\n",
      "  return np.exp(X)/sum(np.exp(X))\n"
     ]
    }
   ],
   "source": [
    "W1, B1, W2, B2=initialize_parameters()\n",
    "print(forward_prop(W1, B1, W2, B2,x_train))"
   ]
  }
 ],
 "metadata": {
  "kernelspec": {
   "display_name": "Python 3 (ipykernel)",
   "language": "python",
   "name": "python3"
  },
  "language_info": {
   "codemirror_mode": {
    "name": "ipython",
    "version": 3
   },
   "file_extension": ".py",
   "mimetype": "text/x-python",
   "name": "python",
   "nbconvert_exporter": "python",
   "pygments_lexer": "ipython3",
   "version": "3.12.3"
  }
 },
 "nbformat": 4,
 "nbformat_minor": 5
}
